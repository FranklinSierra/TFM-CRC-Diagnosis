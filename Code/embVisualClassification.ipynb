{
 "cells": [
  {
   "cell_type": "markdown",
   "id": "13e3700a",
   "metadata": {},
   "source": [
    "# <font color='red'>**Useful functions**</font>"
   ]
  },
  {
   "cell_type": "code",
   "execution_count": null,
   "id": "4092ffe8",
   "metadata": {},
   "outputs": [],
   "source": [
    "from matplotlib.colors import ListedColormap\n",
    "import numpy as np\n",
    "import pandas as pd\n",
    "import matplotlib.pyplot as plt\n",
    "%matplotlib inline\n",
    "import joblib\n",
    "from sklearn import neighbors\n",
    "from sklearn.manifold import TSNE"
   ]
  },
  {
   "cell_type": "code",
   "execution_count": null,
   "id": "73004a66",
   "metadata": {},
   "outputs": [],
   "source": [
    "def load_data(split, experiment, task='binary', include_serrated=False):\n",
    "        \n",
    "    if task == 'binary':\n",
    "        path = \"../data/embeddings/adeVsHyp/\"+experiment+\"/\" + split + \"/\"  \n",
    "    else:\n",
    "        path = \"../data/embeddings/generalEmbc/\" + split + \"/\"\n",
    "    \n",
    "    print(\"reading from: \", path)\n",
    "    ade_dat = np.load(path+\"adenomaEmbeddings.npy\")\n",
    "    ade_lab = np.load(path+\"adenomaLabels.npy\")\n",
    "    ade_vid = np.load(path+\"adenomaVideos.npy\") \n",
    "\n",
    "    hyp_dat = np.load(path+\"hiperplasticEmbeddings.npy\")\n",
    "    hyp_lab = np.load(path+\"hiperplasticLabels.npy\")\n",
    "    hyp_vid = np.load(path+\"hiperplasticVideos.npy\")\n",
    "    \n",
    "    if split!='train' and include_serrated == True:\n",
    "        ser_dat = np.load(path+\"serratedEmbeddings.npy\")\n",
    "        ser_lab = np.load(path+\"serratedLabels.npy\")\n",
    "        ser_vid = np.load(path+\"serratedVideos.npy\")\n",
    "    else:\n",
    "        None\n",
    "        \n",
    "    \n",
    "        \n",
    "    if split!='train' and include_serrated == True:\n",
    "        print(\"==== \"+ split + \" data info ====\")\n",
    "        print(\"ade dim: {}, amount of labels: {}, videos: {}\".format(ade_dat.shape, ade_lab.shape, ade_vid.shape))\n",
    "        print(\"hyp dim: {}, amount of labels: {}, videos: {}\".format(hyp_dat.shape, hyp_lab.shape, hyp_vid.shape))\n",
    "        print(\"ser dim: {}, amount of labels: {}, videos: {}\".format(ser_dat.shape, ser_lab.shape, ser_vid.shape))\n",
    "        features = np.concatenate((ade_dat, hyp_dat, ser_dat), axis=0)\n",
    "        labels = np.concatenate((ade_lab, hyp_lab, ser_lab), axis=0)\n",
    "        videos = np.concatenate((ade_vid, hyp_vid, ser_vid), axis=0)\n",
    "    else:\n",
    "        print(\"==== \"+ split + \" data info ====\")\n",
    "        print(\"ade dim: {}, amount of labels: {}, videos: {}\".format(ade_dat.shape, ade_lab.shape, ade_vid.shape))\n",
    "        print(\"hyp dim: {}, amount of labels: {}, videos: {}\".format(hyp_dat.shape, hyp_lab.shape, hyp_vid.shape))\n",
    "        features = np.concatenate((ade_dat, hyp_dat), axis=0)\n",
    "        labels = np.concatenate((ade_lab, hyp_lab), axis=0)\n",
    "        videos = np.concatenate((ade_vid, hyp_vid), axis=0)\n",
    "    \n",
    "    \n",
    "    \n",
    "    df = pd.DataFrame({'features': list(features), 'clase': labels, 'video': videos}, columns=['features', 'clase', 'video'])\n",
    "    \n",
    "    return df    "
   ]
  },
  {
   "cell_type": "code",
   "execution_count": null,
   "id": "d4f59521",
   "metadata": {},
   "outputs": [],
   "source": [
    "def load_model(path, experiment):\n",
    "    if experiment == 'embcBaseline':\n",
    "        to_load = path + experiment + '/KNN20.pkl'\n",
    "    else:\n",
    "        to_load = path + experiment + '/KNN35.pkl'\n",
    "\n",
    "    print(\"model to load: \", to_load)\n",
    "    model = joblib.load(to_load)\n",
    "    print(\"model loaded!\")\n",
    "    return model"
   ]
  },
  {
   "cell_type": "code",
   "execution_count": null,
   "id": "5c8c0148",
   "metadata": {},
   "outputs": [],
   "source": [
    "def get_features(df):\n",
    "    features = []\n",
    "    labels = []\n",
    "    for i in range(len(df)):\n",
    "        tmp_features = df.loc[i]['features']\n",
    "        tmp_labels = df.loc[i]['clase']\n",
    "        features.append(tmp_features)\n",
    "        labels.append(tmp_labels)\n",
    "\n",
    "    features = np.array(features)\n",
    "    labels = np.array(labels)\n",
    "    \n",
    "    return features, labels"
   ]
  },
  {
   "cell_type": "code",
   "execution_count": null,
   "id": "2a8de0fd",
   "metadata": {},
   "outputs": [],
   "source": [
    "def modif_df(df):\n",
    "    conditions = [\n",
    "    (df['clase'] == 'adenoma'),\n",
    "    (df['clase'] == 'hiperplastic')]\n",
    "\n",
    "    values = [1, 2]\n",
    "\n",
    "    df['labels'] = np.select(conditions, values)\n",
    "    \n",
    "    return df"
   ]
  },
  {
   "cell_type": "markdown",
   "id": "1fda09bb",
   "metadata": {},
   "source": [
    "# <font color='red'>**Loading data and model**</font>"
   ]
  },
  {
   "cell_type": "code",
   "execution_count": null,
   "id": "2fa2ad8b",
   "metadata": {},
   "outputs": [],
   "source": [
    "experiment = 'embcBaseline'\n",
    "task = 'binary'\n",
    "include_serrated = False"
   ]
  },
  {
   "cell_type": "code",
   "execution_count": null,
   "id": "fbba6171",
   "metadata": {},
   "outputs": [],
   "source": [
    "split = 'test'\n",
    "df_test = load_data(split=split, experiment=experiment, task = task, include_serrated=include_serrated)\n",
    "df_test['info'] = df_test['clase'] + '_' + df_test['video']\n",
    "print(\"train_df info:\")\n",
    "print(df_test.groupby(['clase']).count())"
   ]
  },
  {
   "cell_type": "code",
   "execution_count": null,
   "id": "cc3b2a13",
   "metadata": {},
   "outputs": [],
   "source": [
    "split = 'train'\n",
    "df_train = load_data(split=split, experiment=experiment, task = task, include_serrated=include_serrated)\n",
    "df_train['info'] = df_train['clase'] + '_' + df_train['video']\n",
    "print(\"train_df info:\")\n",
    "print(df_train.groupby(['clase']).count())"
   ]
  },
  {
   "cell_type": "code",
   "execution_count": null,
   "id": "396fba26",
   "metadata": {},
   "outputs": [],
   "source": [
    "df_test.head()"
   ]
  },
  {
   "cell_type": "markdown",
   "id": "f7109dd1",
   "metadata": {},
   "source": [
    "## <font color='red'>**Dimension reduction with Tsne**</font>"
   ]
  },
  {
   "cell_type": "code",
   "execution_count": null,
   "id": "eaa53f53",
   "metadata": {},
   "outputs": [],
   "source": [
    "tsne = TSNE(n_components = 2, init = 'pca')\n",
    "\n",
    "#for train set\n",
    "train_features, train_labels = get_features(df_train)\n",
    "Ptrain_tsne = tsne.fit_transform(train_features)\n",
    "print(\"shape of train features: \", Ptrain_tsne.shape)\n",
    "l1_train = Ptrain_tsne[:,0]\n",
    "l2_train = Ptrain_tsne[:,1]\n",
    "df_train['x'] = l1_train\n",
    "df_train['y'] = l2_train\n",
    "#modifying df\n",
    "df_train = modif_df(df_train)\n",
    "\n",
    "#for test set\n",
    "test_features, test_labels = get_features(df_test)\n",
    "Ptest_tsne = tsne.fit_transform(test_features)\n",
    "print(\"shape of test features: \", Ptest_tsne.shape)\n",
    "l1_test = Ptest_tsne[:,0]\n",
    "l2_test = Ptest_tsne[:,1]\n",
    "df_test['x'] = l1_test\n",
    "df_test['y'] = l2_test\n",
    "#modifying df\n",
    "df_test = modif_df(df_test)"
   ]
  },
  {
   "cell_type": "code",
   "execution_count": null,
   "id": "18ad3541",
   "metadata": {},
   "outputs": [],
   "source": [
    "df_test"
   ]
  },
  {
   "cell_type": "markdown",
   "id": "12cdb34c",
   "metadata": {},
   "source": [
    "# <font color='red'>**Plotting KNN boundary decision embedding space**</font>"
   ]
  },
  {
   "cell_type": "code",
   "execution_count": null,
   "id": "0529f638",
   "metadata": {},
   "outputs": [],
   "source": [
    "import plotly.graph_objects as go\n",
    "from sklearn.preprocessing import StandardScaler\n",
    "from sklearn.neighbors import KNeighborsClassifier\n",
    "from sklearn.metrics import confusion_matrix"
   ]
  },
  {
   "cell_type": "code",
   "execution_count": null,
   "id": "6387ee4d",
   "metadata": {},
   "outputs": [],
   "source": [
    "X_train, y_train = df_train.loc[:, [\"x\", \"y\"]].values, df_train.loc[:, \"labels\"].values\n",
    "X_test, y_test = df_test.loc[:, [\"x\", \"y\"]].values, df_test.loc[:, \"labels\"].values\n",
    "print(\"cantidad en train {}, cantidad en test {}\".format(X_train.shape, X_test.shape))"
   ]
  },
  {
   "cell_type": "code",
   "execution_count": null,
   "id": "eb292314",
   "metadata": {},
   "outputs": [],
   "source": [
    "sc = StandardScaler()\n",
    "X_train = sc.fit_transform(X_train)\n",
    "X_test = sc.transform(X_test)"
   ]
  },
  {
   "cell_type": "code",
   "execution_count": null,
   "id": "eecac24b",
   "metadata": {},
   "outputs": [],
   "source": [
    "classifier = KNeighborsClassifier(n_neighbors = 50, weights='uniform')\n",
    "classifier.fit(X_train, y_train)"
   ]
  },
  {
   "cell_type": "code",
   "execution_count": null,
   "id": "86534f15",
   "metadata": {},
   "outputs": [],
   "source": [
    "y_pred = classifier.predict(X_test)"
   ]
  },
  {
   "cell_type": "code",
   "execution_count": null,
   "id": "ac70ef70",
   "metadata": {},
   "outputs": [],
   "source": [
    "cm = confusion_matrix(y_test, y_pred)\n",
    "cm"
   ]
  },
  {
   "cell_type": "markdown",
   "id": "b03856b3",
   "metadata": {},
   "source": [
    "# <font color='red'>**Visualizing results**</font>"
   ]
  },
  {
   "cell_type": "code",
   "execution_count": null,
   "id": "4b7d52be",
   "metadata": {},
   "outputs": [],
   "source": [
    "# Visualising the Training set results\n",
    "from matplotlib.colors import ListedColormap\n",
    "import matplotlib.colors\n",
    "\n",
    "X_set, y_set = X_test, y_test\n",
    "X1, X2 = np.meshgrid(np.arange(start = X_set[:, 0].min() - 1, stop = X_set[:, 0].max() + 1, step = 0.01),\n",
    "                     np.arange(start = X_set[:, 1].min() - 1, stop = X_set[:, 1].max() + 1, step = 0.01))\n",
    "\n",
    "\n",
    "colors=['#db697e', '#8f94ff'] #hex color codes colors for background (ade, hyp, ser)\n",
    "\n",
    "cmap = matplotlib.colors.ListedColormap(colors)\n",
    "\n",
    "Z = classifier.predict(np.array([X1.ravel(), X2.ravel()]).T).reshape(X1.shape)\n",
    "\n",
    "#plt.contourf(X1, X2, Z, alpha = 1, cmap = cmap, linestyles = '-', levels = 2)\n",
    "\n",
    "#new \n",
    "    #contourf: sirve para poner colores de fondo a las areas de clasificacion\n",
    "    #contour: sirve para mostrar los bordes de los limites\n",
    "    \n",
    "plt.contour(X1, X2, Z, alpha = 1, colors='black', linestyles = 'dashdot', levels = 2, linewidths = 2.0)\n",
    "\n",
    "plt.xlim(X1.min(), X1.max())\n",
    "plt.ylim(X2.min(), X2.max())\n",
    "\n",
    "for i, j in enumerate(np.unique(y_set)):\n",
    "    if j == 1:\n",
    "        label = \"adenoma\"\n",
    "        #marker = \"o\"\n",
    "    if j == 2:\n",
    "        label = \"hyperplastic\"\n",
    "        #marker = \"^\"\n",
    "    if j == 3:\n",
    "        label = \"serrated\"\n",
    "        #marker = \"s\"\n",
    "        \n",
    "    #colors for dots (ade, hyp, ser)\n",
    "    \n",
    "    plt.scatter(X_set[y_set == j, 0], X_set[y_set == j, 1],\n",
    "                c = ListedColormap(('#d63351', '#1c09ed'))(i), edgecolors=\"black\", label = label, s=40, \n",
    "                linewidths=1)\n",
    "\n",
    "#plt.title('Classifier (Test set)')\n",
    "plt.legend(loc='upper center', bbox_to_anchor=(0.5, -0.05), fancybox=True, shadow=True, ncol=2)\n",
    "plt.axis('off')\n",
    "#plt.savefig('knn-polyps.png')\n",
    "plt.show()"
   ]
  }
 ],
 "metadata": {
  "kernelspec": {
   "display_name": "Python 3 (ipykernel)",
   "language": "python",
   "name": "python3"
  },
  "language_info": {
   "codemirror_mode": {
    "name": "ipython",
    "version": 3
   },
   "file_extension": ".py",
   "mimetype": "text/x-python",
   "name": "python",
   "nbconvert_exporter": "python",
   "pygments_lexer": "ipython3",
   "version": "3.8.10"
  }
 },
 "nbformat": 4,
 "nbformat_minor": 5
}
