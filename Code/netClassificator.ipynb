{
 "cells": [
  {
   "cell_type": "markdown",
   "metadata": {},
   "source": [
    "# <font color='white'>**Libraries**</font>"
   ]
  },
  {
   "cell_type": "code",
   "execution_count": 1,
   "metadata": {},
   "outputs": [],
   "source": [
    "import os\n",
    "os.environ[\"CUDA_DEVICE_ORDER\"] = \"PCI_BUS_ID\";\n",
    "os.environ[\"CUDA_VISIBLE_DEVICES\"] = \"0\"\n",
    "os.environ['TF_ENABLE_ONEDNN_OPTS'] = '0'"
   ]
  },
  {
   "cell_type": "code",
   "execution_count": 2,
   "metadata": {
    "scrolled": true
   },
   "outputs": [],
   "source": [
    "import tensorflow as tf\n",
    "import sklearn\n",
    "import numpy as np\n",
    "import pandas as pd\n",
    "from sklearn.metrics import classification_report, confusion_matrix, multilabel_confusion_matrix, ConfusionMatrixDisplay \n",
    "from sklearn.preprocessing import StandardScaler\n",
    "from sklearn.model_selection import train_test_split\n",
    "from tensorflow.keras.layers import Dense, Activation, Flatten, Dropout, GlobalAveragePooling2D\n",
    "from tensorflow.keras.models import Sequential, Model\n",
    "from tensorflow.keras import regularizers\n",
    "import matplotlib.pyplot as plt\n",
    "from tensorflow.keras.models import load_model\n",
    "from tensorflow.keras.preprocessing.image import ImageDataGenerator\n",
    "from tensorflow.keras.utils import to_categorical\n",
    "from tensorflow.keras.callbacks import EarlyStopping\n",
    "from tensorflow.keras.optimizers import SGD, Adam, RMSprop\n",
    "from tensorflow.keras.preprocessing import image\n",
    "from tensorflow import keras\n",
    "import imageio\n",
    "from tensorflow.keras.preprocessing.image import load_img\n",
    "from tensorflow.keras.preprocessing.image import img_to_array\n",
    "AUTOTUNE = tf.data.AUTOTUNE\n",
    "from tqdm import tqdm\n",
    "from numpy import asarray\n",
    "import random\n",
    "from sklearn.metrics import roc_auc_score\n",
    "from sklearn import preprocessing\n",
    "from tensorflow import keras"
   ]
  },
  {
   "cell_type": "code",
   "execution_count": 4,
   "metadata": {},
   "outputs": [],
   "source": [
    "# for keras\n",
    "from classification_models.keras import Classifiers"
   ]
  },
  {
   "cell_type": "markdown",
   "metadata": {},
   "source": [
    "# <font color='red'>**Helper functions**</font>\n",
    "Previously executed the \"splitsCsv.ipynb\" file"
   ]
  },
  {
   "cell_type": "markdown",
   "metadata": {},
   "source": [
    "# <font color='red'>**Data**</font>"
   ]
  },
  {
   "cell_type": "markdown",
   "metadata": {},
   "source": [
    "### Loading csv files and dataframes by fold"
   ]
  },
  {
   "cell_type": "code",
   "execution_count": null,
   "metadata": {},
   "outputs": [],
   "source": [
    "def load_folds(fold):\n",
    "    \"\"\"\n",
    "    Loads data from the specified fold (train or test) into pandas DataFrames and splits it into train,\n",
    "    validation, and test sets.\n",
    "\n",
    "    Parameters:\n",
    "    fold (str): The fold for which the data needs to be loaded. Can be either 'train' or 'test'.\n",
    "\n",
    "    Returns:\n",
    "    train_df (pandas.DataFrame): DataFrame containing the training data with two columns, 'path' and 'label'.\n",
    "    val_df (pandas.DataFrame): DataFrame containing the validation data with two columns, 'path' and 'label'.\n",
    "    test_df (pandas.DataFrame): DataFrame containing the test data with two columns, 'path' and 'label'.\n",
    "\n",
    "    Notes:\n",
    "    - The function assumes that the data is available in CSV files with the specified format in the given paths.\n",
    "    - The 'fold' parameter should be a string indicating the fold (either 'train' or 'test').\n",
    "    - The function loads the data from the respective CSV files, assigns column names to the DataFrames,\n",
    "      and splits the training data into training and validation sets using a 90-10 split ratio.\n",
    "    - The 'label' column is considered as the target label for the classification task.\n",
    "    - The 'path' column contains the file paths to the images or data points.\n",
    "    \"\"\"\n",
    "    train_path = '../../../data/binary/'+fold+'/train_NBI.csv'\n",
    "    test_path = '../../../data/binary/'+fold+'/test_NBI.csv'\n",
    "\n",
    "    # Load the training data from the specified CSV file\n",
    "    gen_train_df = pd.read_csv(train_path)\n",
    "    gen_train_df.columns = ['path', 'label']\n",
    "    X = gen_train_df['path']\n",
    "    y = gen_train_df['label']\n",
    "\n",
    "    # Split the training data into training and validation sets (90-10 split ratio)\n",
    "    X_train, X_val, y_train, y_val = train_test_split(X, y, test_size=0.1, random_state=14)\n",
    "\n",
    "    # Concatenate the training data and their labels to create the training DataFrame\n",
    "    train_df = pd.concat([X_train, y_train], axis=1)\n",
    "\n",
    "    # Concatenate the validation data and their labels to create the validation DataFrame\n",
    "    val_df = pd.concat([X_val, y_val], axis=1)\n",
    "\n",
    "    # Load the test data from the specified CSV file\n",
    "    test_df = pd.read_csv(test_path)\n",
    "    test_df.columns = ['path', 'label']\n",
    "\n",
    "    # Return the DataFrames containing the loaded and split data\n",
    "    return train_df, val_df, test_df\n"
   ]
  },
  {
   "cell_type": "code",
   "execution_count": null,
   "metadata": {},
   "outputs": [],
   "source": [
    "def load_dataframes():\n",
    "    \"\"\"\n",
    "    Loads data from three CSV files (training, validation, and test) into pandas DataFrames.\n",
    "\n",
    "    Returns:\n",
    "    train_df (pandas.DataFrame): DataFrame containing the training data with two columns, 'path' and 'label'.\n",
    "    val_df (pandas.DataFrame): DataFrame containing the validation data with two columns, 'path' and 'label'.\n",
    "    test_df (pandas.DataFrame): DataFrame containing the test data with two columns, 'path' and 'label'.\n",
    "\n",
    "    Notes:\n",
    "    - The function assumes that the CSV files are located in the specified directory structure:\n",
    "      '../data/csv_files/adeVshyp/NBI/trainNBI.csv', '../data/csv_files/adeVshyp/NBI/valNBI.csv', and\n",
    "      '../data/csv_files/adeVshyp/NBI/testNBI.csv'.\n",
    "    - The CSV files are assumed to have no headers, so the function will assign column names 'path' and 'label'\n",
    "      to the respective columns after loading the data.\n",
    "    \"\"\"\n",
    "    # Set the path for the CSV files\n",
    "    gen_path = '../data/csv_files/adeVshyp/NBI/'\n",
    "    train_path = gen_path + 'trainNBI.csv'\n",
    "    val_path = gen_path + 'valNBI.csv'\n",
    "    test_path = gen_path + 'testNBI.csv'\n",
    "    \n",
    "    # Load the training data from the CSV file and assign column names to the DataFrame\n",
    "    train_df = pd.read_csv(train_path, header=None)\n",
    "    train_df.columns = ['path', 'label']\n",
    "\n",
    "    # Load the validation data from the CSV file and assign column names to the DataFrame\n",
    "    val_df = pd.read_csv(val_path, header=None)\n",
    "    val_df.columns = ['path', 'label']\n",
    "\n",
    "    # Load the test data from the CSV file and assign column names to the DataFrame\n",
    "    test_df = pd.read_csv(test_path, header=None)\n",
    "    test_df.columns = ['path', 'label']\n",
    "\n",
    "    # Return the DataFrames containing the loaded data\n",
    "    return train_df, val_df, test_df\n"
   ]
  },
  {
   "cell_type": "markdown",
   "metadata": {},
   "source": [
    "# <font color='red'>**Networks**</font>"
   ]
  },
  {
   "cell_type": "code",
   "execution_count": null,
   "metadata": {},
   "outputs": [],
   "source": [
    "def transfer_learning(arquitectura, base_model, IMG_HEIGHT, IMG_WIDTH, num_clases):\n",
    "    \"\"\"\n",
    "    Creates a new transfer learning model by adding custom layers on top of the given base model.\n",
    "\n",
    "    Parameters:\n",
    "    arquitectura (str): The architecture of the base model to be used. Can be 'ResNet18', 'Vgg16', or any other value.\n",
    "    base_model: The pre-trained base model to which custom layers will be added.\n",
    "    IMG_HEIGHT (int): The target height for the input images.\n",
    "    IMG_WIDTH (int): The target width for the input images.\n",
    "    num_clases (int): The number of output classes for the classification task.\n",
    "\n",
    "    Returns:\n",
    "    model (tensorflow.keras.models.Model): A new transfer learning model with custom layers on top of the base model.\n",
    "\n",
    "    Notes:\n",
    "    - The function allows transfer learning using different pre-trained base models like 'ResNet18', 'Vgg16', etc.\n",
    "    - The base model's lower layers are frozen to prevent further training and fine-tuning.\n",
    "    - The custom layers are added on top of the base model to adapt it for the specific classification task.\n",
    "    - The activation function for the last layer is set to 'softmax' for multi-class classification tasks.\n",
    "    \"\"\"\n",
    "    print(\"making transfer learning...\")\n",
    "\n",
    "    # Freeze the base_model lower layers\n",
    "    for layer in base_model.layers[:10]:\n",
    "        layer.trainable = False\n",
    "    for layer in base_model.layers[10:]:\n",
    "        layer.trainable = True\n",
    "\n",
    "    # Create a new model on top based on the specified architecture\n",
    "    if arquitectura == 'ResNet18':\n",
    "        inputs = tf.keras.layers.Input(shape=(IMG_HEIGHT, IMG_WIDTH, 3))\n",
    "        x = tf.keras.layers.Rescaling(scale=1 / 127.5, offset=-1)(inputs)\n",
    "        x = base_model(x)\n",
    "        x = tf.keras.layers.GlobalAveragePooling2D()(x)\n",
    "        predictions = tf.keras.layers.Dense(num_clases, activation='softmax')(x)\n",
    "        model = tf.keras.models.Model(inputs=inputs, outputs=predictions)\n",
    "    elif arquitectura == 'Vgg16':\n",
    "        inputs = tf.keras.layers.Input(shape=(IMG_HEIGHT, IMG_WIDTH, 3))\n",
    "        x = tf.keras.layers.Rescaling(scale=1 / 127.5, offset=-1)(inputs)\n",
    "        x = base_model(x)\n",
    "        x = tf.keras.layers.Flatten(name='flatten')(x)\n",
    "        x = tf.keras.layers.Dense(4096, activation='relu', name='fc1')(x)\n",
    "        x = tf.keras.layers.Dense(4096, activation='relu', name='fc2')(x)\n",
    "        predictions = tf.keras.layers.Dense(num_clases, activation='softmax', name='predictions')(x)\n",
    "        model = tf.keras.models.Model(inputs=inputs, outputs=predictions)\n",
    "    else:\n",
    "        inputs = tf.keras.layers.Input(shape=(IMG_HEIGHT, IMG_WIDTH, 3))\n",
    "        x = tf.keras.layers.Rescaling(scale=1 / 127.5, offset=-1)(inputs)\n",
    "        x = base_model(x)\n",
    "        x = GlobalAveragePooling2D()(x)\n",
    "        x = Dense(1024, activation='relu')(x)\n",
    "        x = Dropout(0.5)(x)\n",
    "        predictions = Dense(num_clases, activation='softmax')(x)\n",
    "        model = Model(inputs=inputs, outputs=predictions)\n",
    "\n",
    "    return model\n"
   ]
  },
  {
   "cell_type": "code",
   "execution_count": null,
   "metadata": {},
   "outputs": [],
   "source": [
    "def make_model(arquitectura, HEIGHT, WIDTH):\n",
    "    \"\"\"\n",
    "    Creates a base model for transfer learning based on the specified architecture.\n",
    "\n",
    "    Parameters:\n",
    "    arquitectura (str): The architecture of the base model to be created. Can be 'MobileNet', 'Vgg16', or 'EfficientNetV2B0'.\n",
    "    HEIGHT (int): The target height for the input images.\n",
    "    WIDTH (int): The target width for the input images.\n",
    "\n",
    "    Returns:\n",
    "    base_model (tensorflow.keras.models.Model): A pre-trained base model suitable for transfer learning.\n",
    "\n",
    "    Notes:\n",
    "    - The function uses Keras applications to load pre-trained base models for transfer learning.\n",
    "    - The 'MobileNet', 'Vgg16', and 'EfficientNetV2B0' models are available for selection.\n",
    "    - The input shape for the base model is set to (HEIGHT, WIDTH, 3) to match the target image size and 3 color channels.\n",
    "    - The 'weights' parameter is set to 'imagenet' to use pre-trained weights on the ImageNet dataset.\n",
    "    - The 'include_top' parameter is set to False to exclude the top classification layers of the base model.\n",
    "    \"\"\"\n",
    "    print(\"loading : \", arquitectura)\n",
    "\n",
    "    # Create a base model for transfer learning based on the specified architecture\n",
    "    if arquitectura == 'MobileNet':\n",
    "        base_model = tf.keras.applications.MobileNet(weights='imagenet', include_top=False,\n",
    "                                                     input_shape=(HEIGHT, WIDTH, 3))\n",
    "    elif arquitectura == 'Vgg16':\n",
    "        base_model = tf.keras.applications.VGG16(weights='imagenet', include_top=False,\n",
    "                                                 input_shape=(HEIGHT, WIDTH, 3))\n",
    "    elif arquitectura == 'EfficientNetV2B0':\n",
    "        base_model = tf.keras.applications.EfficientNetV2B0(weights='imagenet', include_top=False,\n",
    "                                                            input_shape=(HEIGHT, WIDTH, 3))\n",
    "\n",
    "    return base_model\n"
   ]
  },
  {
   "cell_type": "markdown",
   "metadata": {},
   "source": [
    "## Data generator"
   ]
  },
  {
   "cell_type": "code",
   "execution_count": null,
   "metadata": {},
   "outputs": [],
   "source": [
    "def make_generator(df_train, df_val, HEIGHT, WIDTH, tipo, batch_size):\n",
    "    \"\"\"\n",
    "    Creates image generators for training and validation data from the given DataFrames.\n",
    "\n",
    "    Parameters:\n",
    "    df_train (pandas.DataFrame): DataFrame containing the training data with two columns, 'path' and 'label'.\n",
    "    df_val (pandas.DataFrame): DataFrame containing the validation data with two columns, 'path' and 'label'.\n",
    "    HEIGHT (int): The target height for the input images.\n",
    "    WIDTH (int): The target width for the input images.\n",
    "    tipo (str): The class mode for the generator. Can be 'binary' for binary classification or 'categorical' for multi-class.\n",
    "    batch_size (int): The batch size for the data generator.\n",
    "\n",
    "    Returns:\n",
    "    train_generator (tensorflow.python.keras.preprocessing.image.DataFrameIterator): A data generator for training data.\n",
    "    valid_generator (tensorflow.python.keras.preprocessing.image.DataFrameIterator): A data generator for validation data.\n",
    "\n",
    "    Notes:\n",
    "    - The function creates two image data generators, one for training data and one for validation data.\n",
    "    - The training data generator reads data from the DataFrame 'df_train', and the validation data generator reads\n",
    "      data from the DataFrame 'df_val'.\n",
    "    - The 'tipo' parameter determines the class mode for the generator ('binary' for binary classification or\n",
    "      'categorical' for multi-class classification).\n",
    "    - The 'target_size' parameter is set to (HEIGHT, WIDTH) to resize the images to the specified dimensions.\n",
    "    - The 'seed' parameter is set to 42 for reproducibility of random transformations applied to the images.\n",
    "    - The 'shuffle' parameter is set to True to shuffle the data during each epoch.\n",
    "    \"\"\"\n",
    "    # Generator for training data\n",
    "    datagen = ImageDataGenerator()\n",
    "\n",
    "    train_generator = datagen.flow_from_dataframe(directory=None, \n",
    "                                                  dataframe=df_train,\n",
    "                                                  x_col='path', \n",
    "                                                  y_col='label', \n",
    "                                                  target_size=(HEIGHT, WIDTH),\n",
    "                                                  class_mode=tipo, \n",
    "                                                  batch_size=batch_size,\n",
    "                                                  seed=42,\n",
    "                                                  shuffle=True)\n",
    "\n",
    "    # Generator for validation data\n",
    "    val_datagen = ImageDataGenerator()\n",
    "\n",
    "    valid_generator = val_datagen.flow_from_dataframe(directory=None,\n",
    "                                                      dataframe=df_val,\n",
    "                                                      x_col='path',\n",
    "                                                      y_col='label',\n",
    "                                                      batch_size=batch_size,\n",
    "                                                      seed=42,\n",
    "                                                      shuffle=True,\n",
    "                                                      class_mode=tipo,\n",
    "                                                      target_size=(HEIGHT, WIDTH))\n",
    "\n",
    "    return train_generator, valid_generator\n"
   ]
  },
  {
   "cell_type": "markdown",
   "metadata": {},
   "source": [
    "## Train"
   ]
  },
  {
   "cell_type": "code",
   "execution_count": 10,
   "metadata": {},
   "outputs": [],
   "source": [
    "#this cell is for wide training using different nets\n",
    "def train(arquitectura, HEIGHT, WIDTH, df_train, df_val, lr, train_epochs, batch_size, loss, \n",
    "          tipo, clases, augmenting_factor, activacion_final):\n",
    "    \n",
    "    base_model = make_model(arquitectura, HEIGHT, WIDTH)\n",
    "    # making trasfer learning\n",
    "    finetune_model = transfer_learning(arquitectura, base_model, HEIGHT, WIDTH, clases, activacion_final)\n",
    "    # creating generadores\n",
    "    print(\"getting generators...\")\n",
    "    train_generator, valid_generator = make_generator(df_train, df_val, HEIGHT,WIDTH, tipo, batch_size)\n",
    "\n",
    "    # training steps over each dataset\n",
    "    NUM_EPOCHS = train_epochs\n",
    "    num_train_images = len(df_train)*augmenting_factor\n",
    "    STEP_SIZE_TRAIN=num_train_images//train_generator.batch_size\n",
    "    STEP_SIZE_VALID=valid_generator.n//valid_generator.batch_size\n",
    "    \n",
    "    print(\"amount of epocas: \", NUM_EPOCHS)\n",
    "    print(\"amount of images to train: \", num_train_images)\n",
    "    print(\"amount of images to valid: \", valid_generator.n)\n",
    "\n",
    "    \n",
    "    if task == 'binary':\n",
    "        save_path = \"../path/to_save/your_model.h5 \"\n",
    "    else:\n",
    "        save_path = \"../path/to_save/your_model.h5 \"\n",
    "        \n",
    "    callback_list = [tf.keras.callbacks.EarlyStopping(patience=4, monitor='val_auc', mode='max'),                                     \n",
    "                    tf.keras.callbacks.ModelCheckpoint(filepath=save_path,\n",
    "                                                      monitor = 'val_auc',\n",
    "                                                      verbose=1,\n",
    "                                                      save_best_only=True,\n",
    "                                                      mode = 'max',\n",
    "                                                      save_weights_only=False,\n",
    "                                                      save_freq='epoch')]\n",
    "    \n",
    "    solver = Adam(lr=lr)\n",
    "    print(\"class weights\")\n",
    "    total = df_train.shape[0]\n",
    "    weights = (total/df_train.groupby('label').count().values)/2\n",
    "    class_weight = {0:weights[0][0], 1:weights[1][0]}\n",
    "    \n",
    "    print(\"compiling model\")\n",
    "    finetune_model.compile(solver, loss=loss, metrics=[tf.keras.metrics.AUC()])\n",
    "    \n",
    "    print(\"model training...\")\n",
    "    history = finetune_model.fit(train_generator,\n",
    "                                 steps_per_epoch = STEP_SIZE_TRAIN,\n",
    "                                 epochs=NUM_EPOCHS,\n",
    "                                 validation_data=valid_generator,\n",
    "                                 validation_steps=STEP_SIZE_VALID,\n",
    "                                 class_weight=class_weight,\n",
    "                                 callbacks=callback_list)\n",
    "    \n",
    "    return finetune_model, history, train_generator, valid_generator "
   ]
  },
  {
   "cell_type": "code",
   "execution_count": 11,
   "metadata": {},
   "outputs": [],
   "source": [
    "train_df, val_df, test_df = load_dataframes()"
   ]
  },
  {
   "cell_type": "code",
   "execution_count": 12,
   "metadata": {},
   "outputs": [
    {
     "name": "stdout",
     "output_type": "stream",
     "text": [
      "lengh of train: 19508, lengh of valid: 5115, lengh of test: 5538\n"
     ]
    }
   ],
   "source": [
    "print(\"lengh of train: {}, lengh of valid: {}, lengh of test: {}\".format(len(train_df), len(val_df), len(test_df)))"
   ]
  },
  {
   "cell_type": "code",
   "execution_count": null,
   "metadata": {},
   "outputs": [],
   "source": [
    "current_train_df = pd.concat([train_df, val_df], axis=0)\n",
    "len(current_train_df)"
   ]
  },
  {
   "cell_type": "code",
   "execution_count": null,
   "metadata": {},
   "outputs": [],
   "source": [
    "#this cell is for a general classification knowledge\n",
    "nets = ['Vgg16', 'MobileNet', 'EfficientNetV2B0']\n",
    "\n",
    "num_clases=2\n",
    "\n",
    "HEIGHT, WIDTH = 256, 256\n",
    "activacion_final = 'softmax'\n",
    "x_col_name = 'path'\n",
    "y_col_name = 'label'\n",
    "tipo = 'categorical'\n",
    "batch_size = 16\n",
    "augmenting_factor = 2\n",
    "train_epochs = 20\n",
    "lr=0.00001\n",
    "loss='categorical_crossentropy' \n",
    "\n",
    "for net in nets:\n",
    "    arquitectura = net \n",
    "    np.random.seed(42)\n",
    "    tf.random.set_seed(42)\n",
    "    tf.keras.backend.clear_session()\n",
    "\n",
    "    finetune_model, history, train_generator, valid_generator = train(arquitectura, HEIGHT, WIDTH, \n",
    "                                                                      current_train_df, val_df, lr, train_epochs,\n",
    "                                                                      batch_size, loss, tipo, num_clases,\n",
    "                                                                      augmenting_factor, activacion_final)"
   ]
  },
  {
   "cell_type": "markdown",
   "metadata": {},
   "source": [
    "## Full test frames and serrated samples "
   ]
  },
  {
   "cell_type": "code",
   "execution_count": null,
   "metadata": {},
   "outputs": [],
   "source": [
    "path = '../imgs_results/binary/embcBaseline/fold1/full_frames/test/embcBaselineArtifNbifold1.csv'\n",
    "general_df = pd.read_csv(path, header=None)\n",
    "general_df.columns = ['path', 'label']\n",
    "\n",
    "serrated_df = general_df[general_df['label']=='serrated']\n",
    "\n",
    "test_df = general_df[general_df['label']!='serrated']\n",
    "test_df.tail()"
   ]
  },
  {
   "cell_type": "code",
   "execution_count": null,
   "metadata": {},
   "outputs": [],
   "source": [
    "#path = '../data/csv_files/adeVshyp/NBI/test.csv'\n",
    "path = '../imgs_results/binary/' +  experiment + '/full_frames/' + experiment+ 'ArtifNbi.csv'\n",
    "general_df = pd.read_csv(path, header=None)\n",
    "general_df.columns = ['path', 'label']\n",
    "\n",
    "serrated_df = general_df[general_df['label']=='serrated']\n",
    "\n",
    "test_df = general_df[general_df['label']!='serrated']\n",
    "test_df.tail()"
   ]
  },
  {
   "cell_type": "code",
   "execution_count": null,
   "metadata": {},
   "outputs": [],
   "source": [
    "test_df.groupby(['label']).count()"
   ]
  },
  {
   "cell_type": "code",
   "execution_count": null,
   "metadata": {},
   "outputs": [],
   "source": [
    "test_df.iloc[0]['path']"
   ]
  },
  {
   "cell_type": "markdown",
   "metadata": {},
   "source": [
    "## Loading test dataframes"
   ]
  },
  {
   "cell_type": "markdown",
   "metadata": {},
   "source": [
    "### Making generator"
   ]
  },
  {
   "cell_type": "code",
   "execution_count": 13,
   "metadata": {},
   "outputs": [],
   "source": [
    "def make_generator(df_test, HEIGHT, WIDTH, tipo, batch_size):\n",
    "    \n",
    "    test_datagen=ImageDataGenerator()\n",
    "    \n",
    "    test_generator=test_datagen.flow_from_dataframe(directory=None,\n",
    "                                                    dataframe=df_test,\n",
    "                                                    x_col='path',\n",
    "                                                    y_col='label',\n",
    "                                                    batch_size=batch_size,\n",
    "                                                    seed=42,\n",
    "                                                    shuffle=False,\n",
    "                                                    class_mode=tipo,\n",
    "                                                    target_size=(HEIGHT,WIDTH))\n",
    "\n",
    "    return test_generator"
   ]
  },
  {
   "cell_type": "code",
   "execution_count": 14,
   "metadata": {},
   "outputs": [],
   "source": [
    "HEIGHT, WIDTH = 256, 256\n",
    "tipo = 'categorical'\n",
    "batch_size = 16"
   ]
  },
  {
   "cell_type": "code",
   "execution_count": 15,
   "metadata": {},
   "outputs": [
    {
     "name": "stdout",
     "output_type": "stream",
     "text": [
      "Found 5538 validated image filenames belonging to 2 classes.\n"
     ]
    }
   ],
   "source": [
    "test_gen = make_generator(test_df, HEIGHT, WIDTH, tipo, batch_size)"
   ]
  },
  {
   "cell_type": "code",
   "execution_count": 16,
   "metadata": {},
   "outputs": [
    {
     "name": "stdout",
     "output_type": "stream",
     "text": [
      "modelo cargado!\n"
     ]
    }
   ],
   "source": [
    "#loading the \n",
    "trained_model_path = \"/path/classifier/model.h5\"\n",
    "model = keras.models.load_model(trained_model_path, compile=True)"
   ]
  },
  {
   "cell_type": "code",
   "execution_count": 17,
   "metadata": {},
   "outputs": [
    {
     "name": "stdout",
     "output_type": "stream",
     "text": [
      "Confusion Matrix\n",
      "[[2816 1345]\n",
      " [ 450  927]]\n",
      "Classification Report\n",
      "              precision    recall  f1-score   support\n",
      "\n",
      "     Adenoma       0.86      0.68      0.76      4161\n",
      "Hyperplastic       0.41      0.67      0.51      1377\n",
      "\n",
      "    accuracy                           0.68      5538\n",
      "   macro avg       0.64      0.67      0.63      5538\n",
      "weighted avg       0.75      0.68      0.70      5538\n",
      "\n"
     ]
    }
   ],
   "source": [
    "#Confution Matrix and Classification Report\n",
    "test_gen.reset()\n",
    "logits = model.predict(test_gen, test_df.shape[0] // batch_size+1)\n",
    "y_pred_class = np.argmax(logits, axis=1)\n",
    "#predicted_class_probab=np.max(logits,axis=1)\n",
    "\n",
    "\n",
    "target_names = ['Adenoma', 'Hyperplastic']   \n",
    "  \n",
    "\n",
    "print('Confusion Matrix')\n",
    "print(confusion_matrix(test_gen.classes, y_pred_class))\n",
    "print('Classification Report')\n",
    "print(classification_report(test_gen.classes, y_pred_class, target_names=target_names))"
   ]
  },
  {
   "cell_type": "code",
   "execution_count": null,
   "metadata": {},
   "outputs": [],
   "source": [
    "from sklearn.metrics import confusion_matrix, ConfusionMatrixDisplay\n",
    "target_names = ['adenoma', 'hyperplastic']\n",
    "cm = confusion_matrix(test_gen.classes, y_pred_class, normalize='true')\n",
    "disp = ConfusionMatrixDisplay(confusion_matrix=cm, display_labels=target_names)\n",
    "disp = disp.plot(include_values=True, cmap=plt.cm.Blues, xticks_rotation='horizontal', values_format='.2f')"
   ]
  },
  {
   "cell_type": "code",
   "execution_count": null,
   "metadata": {},
   "outputs": [],
   "source": [
    "AUC = tf.keras.metrics.AUC()\n",
    "AUC.update_state(test_gen.classes, y_pred_class)\n",
    "AUC.result()"
   ]
  }
 ],
 "metadata": {
  "kernelspec": {
   "display_name": "Python 3 (ipykernel)",
   "language": "python",
   "name": "python3"
  },
  "language_info": {
   "codemirror_mode": {
    "name": "ipython",
    "version": 3
   },
   "file_extension": ".py",
   "mimetype": "text/x-python",
   "name": "python",
   "nbconvert_exporter": "python",
   "pygments_lexer": "ipython3",
   "version": "3.8.10"
  }
 },
 "nbformat": 4,
 "nbformat_minor": 4
}
