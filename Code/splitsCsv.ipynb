{
 "cells": [
  {
   "cell_type": "markdown",
   "metadata": {},
   "source": [
    "# **Libraries**"
   ]
  },
  {
   "cell_type": "code",
   "execution_count": null,
   "metadata": {
    "vscode": {
     "languageId": "plaintext"
    }
   },
   "outputs": [],
   "source": [
    "import os"
   ]
  },
  {
   "cell_type": "markdown",
   "metadata": {},
   "source": [
    "### Making csv files for each split\n",
    "This code is used the first time to create the train, val and test splits csv files"
   ]
  },
  {
   "cell_type": "code",
   "execution_count": null,
   "metadata": {
    "vscode": {
     "languageId": "plaintext"
    }
   },
   "outputs": [],
   "source": [
    "def get_split_videos(split, light):\n",
    "    \"\"\"\n",
    "    Gets a list of unique video names for the specified split (train or test) and light condition.\n",
    "\n",
    "    Parameters:\n",
    "    split (str): The split for which the video names are to be retrieved. Can be either 'train' or 'test'.\n",
    "    light (str): The light condition, which will be used to construct the path to the video files.\n",
    "\n",
    "    Returns:\n",
    "    clases (list): A list containing unique video names corresponding to the specified split and light condition.\n",
    "\n",
    "    Notes:\n",
    "    - The function assumes that the video files are organized in specific directories based on the split and light conditions.\n",
    "    - The 'light' parameter should be a string indicating the light condition (e.g., 'NBI', 'WLI', etc.).\n",
    "    - The 'split' parameter should be a string indicating the split (either 'train' or 'test').\n",
    "    - The function retrieves the video names from the specified directory and returns a list containing those names.\n",
    "    - The resulting list of video names is sorted based on class ('ade', 'hyp', 'ser') to group videos of the same class.\n",
    "    \"\"\"\n",
    "    clases = []\n",
    "    \n",
    "    if split == 'test':\n",
    "        path = '../../../data/binary/test_' + light + '/'\n",
    "    else:\n",
    "        path = '../../../data/binary/train_' + light + '/'\n",
    "\n",
    "    videos = set()\n",
    "    for file in os.listdir(path):\n",
    "        clase = file.split('_')[0]\n",
    "        video = file.split('_')[-3]\n",
    "        name = clase + '_' + light + '/video_' + video\n",
    "        videos.add(name)\n",
    "\n",
    "    videos = list(videos)\n",
    "\n",
    "    # Sort and group the video names based on class ('ade', 'hyp', 'ser')\n",
    "    check = 'a'\n",
    "    res_ade = [video for video in videos if video[0].lower() == check.lower()]\n",
    "    check = 'h'\n",
    "    res_hyp = [video for video in videos if video[0].lower() == check.lower()]\n",
    "    check = 's'\n",
    "    res_ser = [video for video in videos if video[0].lower() == check.lower()]\n",
    "\n",
    "    clases.extend(res_ade)\n",
    "    clases.extend(res_hyp)\n",
    "    clases.extend(res_ser)\n",
    "\n",
    "    return clases\n"
   ]
  },
  {
   "cell_type": "code",
   "execution_count": null,
   "metadata": {
    "vscode": {
     "languageId": "plaintext"
    }
   },
   "outputs": [],
   "source": [
    "gen_path = '../../../../../data/polyp_original/' + light + '/'\n",
    "random.seed(14)\n",
    "\n",
    "train_videos = get_split_videos(split= 'train', light=light)\n",
    "test_videos = get_split_videos(split= 'test', light=light)\n",
    "\n",
    "check = 'a'\n",
    "train_ade = [video for video in train_videos if video[0].lower() == check.lower()]\n",
    "check = 'h'\n",
    "train_hyp = [video for video in train_videos if video[0].lower() == check.lower()]\n",
    "check = 's'\n",
    "train_ser = [video for video in train_videos if video[0].lower() == check.lower()]\n",
    "\n",
    "train_ade_rate, train_hyp_rate, train_ser_rate = int(len(train_ade)*0.8), int(len(train_hyp)*0.8), int(len(train_ser)*0.8)\n",
    "train_ade2 = random.sample(train_ade, train_ade_rate)\n",
    "train_hyp2 = random.sample(train_hyp, train_hyp_rate)\n",
    "train_ser2 = random.sample(train_ser, train_ser_rate)\n",
    "\n",
    "val_ade = list(set(train_ade) - set(train_ade2))\n",
    "val_hyp = list(set(train_hyp) - set(train_hyp2))\n",
    "    \n",
    "if task == 'multiclass':    \n",
    "    train = [train_ade2, train_hyp2, train_ser2] \n",
    "    val_ser = list(set(train_ser) - set(train_ser2))\n",
    "    val = [val_ade, val_hyp, val_ser]\n",
    "\n",
    "else:\n",
    "    train = [train_ade2, train_hyp2] \n",
    "    val = [val_ade, val_hyp]\n",
    "    check = 's'\n",
    "    test_ser = [video for video in test_videos if video[0].lower() == check.lower()]\n",
    "    test_videos = list(set(test_videos) - set(test_ser))\n",
    "    \n",
    "    \n",
    "train_videos = []\n",
    "val_videos = []\n",
    "for element in train:\n",
    "    train_videos.extend(element)\n",
    "\n",
    "for element in val:\n",
    "    val_videos.extend(element)\n",
    "\n",
    "print(\"for task: \", task)\n",
    "print(\"amount of train: \", len(train_videos))\n",
    "print(\"amount of val: \", len(val_videos))\n",
    "print(\"amount of test: \", len(test_videos))"
   ]
  },
  {
   "cell_type": "code",
   "execution_count": null,
   "metadata": {
    "vscode": {
     "languageId": "plaintext"
    }
   },
   "outputs": [],
   "source": [
    "clases = [train_videos, val_videos, test_videos]\n",
    "\n",
    "for i, tipo in enumerate(clases):\n",
    "    if i == 0:\n",
    "        csvfile = open('train'+light+'.csv', '+w')        \n",
    "    elif i == 1:\n",
    "        csvfile = open('val'+light+'.csv', '+w')    \n",
    "    else:\n",
    "        csvfile = open('test'+light+'.csv', '+w')        \n",
    "    for video in tipo:\n",
    "        name = video.split('/')[0]\n",
    "        current_name = name.split('_')[0]\n",
    "        \n",
    "        if (task == 'binary') and (current_name=='serrated'):\n",
    "            None\n",
    "        else:\n",
    "            col_name = ',' + current_name + '\\n'\n",
    "            video_path = gen_path + video + '/'\n",
    "            images = os.listdir(video_path)\n",
    "            for image in images:\n",
    "                img_path = video_path + image\n",
    "                csvfile.write(img_path+col_name)        \n",
    "    csvfile.close()\n",
    "            \n",
    "print(\"Finished!\") "
   ]
  }
 ],
 "metadata": {
  "language_info": {
   "name": "python"
  },
  "orig_nbformat": 4
 },
 "nbformat": 4,
 "nbformat_minor": 2
}
