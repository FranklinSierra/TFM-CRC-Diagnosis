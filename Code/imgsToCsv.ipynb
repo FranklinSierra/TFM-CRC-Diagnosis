{
 "cells": [
  {
   "cell_type": "code",
   "execution_count": 1,
   "metadata": {},
   "outputs": [],
   "source": [
    "import os\n",
    "import pandas as pd\n",
    "import matplotlib.pyplot as plt\n",
    "import numpy as np\n",
    "import math\n",
    "import tqdm"
   ]
  },
  {
   "cell_type": "markdown",
   "metadata": {},
   "source": [
    "# Public dataset\n",
    "## Csv file for each polyp class"
   ]
  },
  {
   "cell_type": "code",
   "execution_count": null,
   "metadata": {},
   "outputs": [],
   "source": [
    "light = 'NBI'\n",
    "path = '/../../../polyp_original/' + light\n",
    "clases = os.listdir(path)"
   ]
  },
  {
   "cell_type": "code",
   "execution_count": null,
   "metadata": {},
   "outputs": [],
   "source": [
    "for clase in clases:\n",
    "    \n",
    "    print(\"=== clase ===\", clase)\n",
    "    if clase == 'adenoma_NBI':\n",
    "        csvfile = open('adenoma.csv', '+w')\n",
    "        col_name = ',adenoma\\n'\n",
    "    if clase == 'hiperplastic_NBI':\n",
    "        csvfile = open('hiperplastic.csv', '+w')\n",
    "        col_name = ',hiperplastic\\n'\n",
    "    if clase == 'serrated_NBI':\n",
    "        csvfile = open('serrated.csv', '+w')\n",
    "        col_name = ',serrated\\n'\n",
    "    \n",
    "    \n",
    "    path_clase = path + clase\n",
    "    videos = os.listdir(path_clase)\n",
    "    for video in videos:\n",
    "        print(video)\n",
    "        path_videos = path_clase + '/' + video\n",
    "        imgs = os.listdir(path_videos)\n",
    "        for img in imgs:\n",
    "            path_img = path_videos + '/' + img\n",
    "            csvfile.write(path_img+col_name)\n",
    "            \n",
    "    csvfile.close()\n",
    "            \n",
    "print(\"Finished!\")        "
   ]
  },
  {
   "cell_type": "markdown",
   "metadata": {},
   "source": [
    "## General source data"
   ]
  },
  {
   "cell_type": "code",
   "execution_count": null,
   "metadata": {},
   "outputs": [],
   "source": [
    "clases"
   ]
  },
  {
   "cell_type": "code",
   "execution_count": null,
   "metadata": {},
   "outputs": [],
   "source": [
    "root = '../../../../../data/polyp_original/' + light\n",
    "#to_save = root + light + 'Wl.csv'\n",
    "\n",
    "csvfile = open(root+'.csv', '+w')\n",
    "for clase in clases:\n",
    "    print(\"working on: \", clase)\n",
    "    label = clase.split('_')[0]\n",
    "    col_name = ','+label+'\\n'\n",
    "    path_clase = root + '/'+ clase\n",
    "    videos = os.listdir(path_clase)\n",
    "    for video in videos:\n",
    "        video_path = path_clase + '/' + video\n",
    "        images = os.listdir(video_path)\n",
    "        for image in tqdm.tqdm(images):\n",
    "            imgs_path = video_path + '/' + image\n",
    "            csvfile.write(imgs_path+col_name)\n",
    "csvfile.close()\n",
    "print(\"finished!\")        "
   ]
  },
  {
   "cell_type": "code",
   "execution_count": null,
   "metadata": {},
   "outputs": [],
   "source": [
    "file = '../data/csv_files/NBI/allTypes.csv'\n",
    "df = pd.read_csv(file, header=None)\n",
    "df.groupby([1]).count()"
   ]
  },
  {
   "cell_type": "markdown",
   "metadata": {},
   "source": [
    "# For IGHO data\n",
    "preguntar el tipo en la carpeta: 2021-08-26_105781"
   ]
  },
  {
   "cell_type": "code",
   "execution_count": null,
   "metadata": {},
   "outputs": [],
   "source": [
    "root = \"/../../../experiments/unconditional_cycleGan/imgs_results/wl2nbi/fake_images_ck4/igho/AGOSTO/\"\n",
    "folder = \"2021-08-23_105381/\"\n",
    "label = 'hyperplastic'\n",
    "clases = ['artifNBI', 'realWL']\n",
    "for clase in clases:\n",
    "    csvfile = open(root+folder+label+clase+'.csv', '+w')\n",
    "    col_name = ','+label+'\\n'# ',adenoma\\n'\n",
    "    path = root + folder + clase\n",
    "    images = os.listdir(path)\n",
    "    for image in images:\n",
    "        img_path = path + '/' + image\n",
    "        csvfile.write(img_path+col_name)\n",
    "    csvfile.close()\n",
    "print(\"finished!\")"
   ]
  },
  {
   "cell_type": "code",
   "execution_count": null,
   "metadata": {},
   "outputs": [],
   "source": [
    "root = \"/../../Igho/Uncompressed/Videos/AGOSTO/2021-08-30_106015_2/NBI/\"\n",
    "folder = \"2021-08-30_106015_2/\"\n",
    "light = \"NBI\"\n",
    "\n",
    "label = 'adenoma'\n",
    "to_save = '../imgs_results/wl2nbi/fake_images_ck4/igho/AGOSTO/' + folder\n",
    "clases = ['realNBI']\n",
    "\n",
    "for clase in clases:\n",
    "    csvfile = open(to_save+label+clase+'.csv', '+w')\n",
    "    col_name = ','+label+'\\n'\n",
    "    path = root + folder + light\n",
    "    images = os.listdir(path)\n",
    "    for image in images:\n",
    "        img_path = path + '/' + image\n",
    "        \n",
    "        csvfile.write(img_path+col_name)\n",
    "    csvfile.close()\n",
    "print(\"finished!\")"
   ]
  },
  {
   "cell_type": "markdown",
   "metadata": {},
   "source": [
    "# For binary classification folds data"
   ]
  },
  {
   "cell_type": "code",
   "execution_count": null,
   "metadata": {},
   "outputs": [],
   "source": [
    "#for original nbi and wl images\n",
    "general_pth = '../../../data/binary/'\n",
    "\n",
    "folds = ['fold1', 'fold2', 'fold3', 'fold4', 'fold5']\n",
    "\n",
    "for fold in folds:\n",
    "    print(\"for fold: \", fold)\n",
    "    fold_pth = general_pth + fold\n",
    "    folders = os.listdir(fold_pth)\n",
    "    for folder in folders:\n",
    "        #name of csv file\n",
    "        csvfile = open(general_pth+fold+'/'+folder+'.csv', '+w')\n",
    "        \n",
    "        folder_pth = fold_pth + '/' + folder\n",
    "        files = os.listdir(folder_pth)\n",
    "        for file in files:\n",
    "            img_pth = folder_pth + '/' + file\n",
    "            image = file.split('.')[0]\n",
    "            clase = image.split('_')[0]\n",
    "            col_name = ','+clase+'\\n'\n",
    "            csvfile.write(img_pth+col_name)\n",
    "        csvfile.close() \n",
    "print(\"finished!\")"
   ]
  },
  {
   "cell_type": "markdown",
   "metadata": {},
   "source": [
    "**for synthetic nbi images**"
   ]
  },
  {
   "cell_type": "code",
   "execution_count": 2,
   "metadata": {},
   "outputs": [
    {
     "name": "stdout",
     "output_type": "stream",
     "text": [
      "finished! fineTunedModel\n"
     ]
    }
   ],
   "source": [
    "experiments = ['fineTunedModel']\n",
    "\n",
    "for experiment in experiments:\n",
    "    general_pth = '../imgs_results/binary/embcVariation/test/' + experiment + '/'\n",
    "    #general_pth = '../imgs_results/binary/embcBaseline/fold1/full_frames/test/'\n",
    "\n",
    "    folders = sorted(os.listdir(general_pth))\n",
    "    values_with_wl = [value for value in folders if 'WL' in value]\n",
    "\n",
    "    #name of csv file\n",
    "    file_name = general_pth + experiment + 'ArtifNbi.csv'\n",
    "    csvfile = open(file_name, '+w')\n",
    "    for folder in values_with_wl:\n",
    "        folder_pth = general_pth + folder\n",
    "        videos = os.listdir(folder_pth)\n",
    "        for video in videos:\n",
    "            video_path = folder_pth + '/' + video\n",
    "            files = os.listdir(video_path)\n",
    "            for file in files:\n",
    "                img_pth = video_path + '/' + file\n",
    "                image = file.split('.')[0]\n",
    "                clase = image.split('_')[0]\n",
    "                col_name = ','+clase+'\\n'\n",
    "                csvfile.write(img_pth+col_name)\n",
    "    csvfile.close() \n",
    "    print(\"finished!\", experiment)"
   ]
  }
 ],
 "metadata": {
  "kernelspec": {
   "display_name": "Python 3",
   "language": "python",
   "name": "python3"
  },
  "language_info": {
   "codemirror_mode": {
    "name": "ipython",
    "version": 3
   },
   "file_extension": ".py",
   "mimetype": "text/x-python",
   "name": "python",
   "nbconvert_exporter": "python",
   "pygments_lexer": "ipython3",
   "version": "3.8.10"
  }
 },
 "nbformat": 4,
 "nbformat_minor": 2
}
