{
 "cells": [
  {
   "cell_type": "markdown",
   "id": "2e7b5f53",
   "metadata": {},
   "source": [
    "# <font color='red'>**Libraries**</font>"
   ]
  },
  {
   "cell_type": "code",
   "execution_count": null,
   "id": "50a00eff",
   "metadata": {},
   "outputs": [],
   "source": [
    "import numpy as np\n",
    "import pandas as pd\n",
    "from sklearn.decomposition import PCA\n",
    "from sklearn.manifold import TSNE\n",
    "import os\n",
    "import joblib\n",
    "import matplotlib.pyplot as plt\n",
    "import seaborn as sns\n",
    "from sklearn.metrics import classification_report\n",
    "from sklearn.metrics import confusion_matrix, ConfusionMatrixDisplay\n",
    "from sklearn.metrics import roc_curve, auc, roc_auc_score\n",
    "from sklearn import preprocessing"
   ]
  },
  {
   "cell_type": "markdown",
   "id": "011ea0c4",
   "metadata": {},
   "source": [
    "# <font color='red'>**Data loading and preprocess**</font>\n",
    "## Useful functions"
   ]
  },
  {
   "cell_type": "code",
   "execution_count": null,
   "id": "2673b6b3",
   "metadata": {},
   "outputs": [],
   "source": [
    "def load_data(general_path, split):\n",
    "    ade_dat = np.load(general_path + split + '/'+ \"adenomaEmbeddings.npy\")\n",
    "    ade_lab = np.load(general_path + split + '/'+ \"adenomaLabels.npy\")\n",
    "    ade_vid = np.load(general_path + split + '/'+ \"adenomaVideos.npy\") \n",
    "\n",
    "    hyp_dat = np.load(general_path + split + '/'+ \"hiperplasticEmbeddings.npy\")\n",
    "    hyp_lab = np.load(general_path + split + '/'+ \"hiperplasticLabels.npy\")\n",
    "    hyp_vid = np.load(general_path + split + '/'+ \"hiperplasticVideos.npy\")\n",
    "    \n",
    "    print(\"==== \"+ split + \" data info ====\")\n",
    "    print(\"ade dim: {}, amount of labels: {}, videos: {}\".format(ade_dat.shape, ade_lab.shape, ade_vid.shape))\n",
    "    print(\"hyp dim: {}, amount of labels: {}, videos: {}\".format(hyp_dat.shape, hyp_lab.shape, hyp_vid.shape))\n",
    "    \n",
    "    features = np.concatenate((ade_dat, hyp_dat), axis=0)\n",
    "    labels = np.concatenate((ade_lab, hyp_lab), axis=0)\n",
    "    videos = np.concatenate((ade_vid, hyp_vid), axis=0)\n",
    "    \n",
    "    df = pd.DataFrame({'features': list(features), 'label': labels, 'video': videos}, columns=['features', 'label', 'video'])\n",
    "    \n",
    "    return df"
   ]
  },
  {
   "cell_type": "code",
   "execution_count": null,
   "id": "e2d15cf4",
   "metadata": {},
   "outputs": [],
   "source": [
    "def get_features(df):\n",
    "    features = []\n",
    "    for i in range(len(df)):\n",
    "        tmp_features = df.loc[i]['features']\n",
    "        features.append(tmp_features)\n",
    "\n",
    "    features = np.array(features)\n",
    "    \n",
    "    return features"
   ]
  },
  {
   "cell_type": "markdown",
   "id": "15640a62",
   "metadata": {},
   "source": [
    "**Main**"
   ]
  },
  {
   "cell_type": "code",
   "execution_count": null,
   "id": "aee46a90",
   "metadata": {},
   "outputs": [],
   "source": [
    "experiment = 'fineTunedModel'\n",
    "general_path = \"../../../unconditional/cycleGan-polyps/data/embeddings/adeVsHyp/embcVariation/\"+ experiment + \"/\" "
   ]
  },
  {
   "cell_type": "code",
   "execution_count": null,
   "id": "ffbf5ebe",
   "metadata": {},
   "outputs": [],
   "source": [
    "train_df = load_data(general_path, split='train')\n",
    "train_df['info'] = train_df['label'] + '_' + train_df['video']\n",
    "print(\"train_df info:\")\n",
    "print(train_df.groupby(['label']).count())\n",
    "\n",
    "test_df = load_data(general_path, split='test')\n",
    "test_df['info'] = test_df['label'] + '_' + test_df['video']\n",
    "print(\"test_df info:\")\n",
    "print(test_df.groupby(['label']).count())"
   ]
  },
  {
   "cell_type": "code",
   "execution_count": null,
   "id": "e8fb3876",
   "metadata": {},
   "outputs": [],
   "source": [
    "test_df"
   ]
  },
  {
   "cell_type": "markdown",
   "id": "eb175ac5",
   "metadata": {},
   "source": [
    "# <font color='red'>**Loading and predicting test samples with the best model**</font>\n",
    "## Model loading"
   ]
  },
  {
   "cell_type": "code",
   "execution_count": null,
   "id": "c3990520",
   "metadata": {},
   "outputs": [],
   "source": [
    "print(\"experiment \",experiment)\n",
    "if experiment == 'embcBaseline':\n",
    "    to_load = \"../models_emb_classification/adeVsHyp/embcBaseline/fold1/test/KNN5.pkl\"\n",
    "else:\n",
    "    to_load = \"../models_emb_classification/adeVsHyp/embcVariation/fineTunedModel/test/RF10.pkl\"\n",
    "    \n",
    "model = joblib.load(to_load)\n",
    "print(\"model loaded!\")"
   ]
  },
  {
   "cell_type": "markdown",
   "id": "21398105",
   "metadata": {},
   "source": [
    "### Loading test samples"
   ]
  },
  {
   "cell_type": "code",
   "execution_count": null,
   "metadata": {},
   "outputs": [],
   "source": [
    "general_path"
   ]
  },
  {
   "cell_type": "code",
   "execution_count": null,
   "id": "98834ecd",
   "metadata": {},
   "outputs": [],
   "source": [
    "path = general_path + \"test/\"\n",
    "\n",
    "ade_dat = np.load(path+\"adenomaEmbeddings.npy\")\n",
    "ade_lab = np.load(path+\"adenomaLabels.npy\")\n",
    "ade_vid = np.load(path+\"adenomaVideos.npy\") \n",
    "\n",
    "hyp_dat = np.load(path+\"hiperplasticEmbeddings.npy\")\n",
    "hyp_lab = np.load(path+\"hiperplasticLabels.npy\")\n",
    "hyp_vid = np.load(path+\"hiperplasticVideos.npy\") \n",
    "\n",
    "ser_dat = np.load(path+\"serratedEmbeddings.npy\")\n",
    "ser_lab = np.load(path+\"serratedLabels.npy\")\n",
    "ser_vid = np.load(path+\"serratedVideos.npy\") \n",
    "\n",
    "print(\"==== adenoma data info ====\")\n",
    "print(\"ade dim: {}, amount of labels: {}, videos: {}\".format(ade_dat.shape, ade_lab.shape, ade_vid.shape))\n",
    "print(\"==== hyperplastic data info ====\")\n",
    "print(\"hyp dim: {}, amount of labels: {}, videos: {}\".format(hyp_dat.shape, hyp_lab.shape, hyp_vid.shape))\n",
    "print(\"==== serrated data info ====\")\n",
    "print(\"ser dim: {}, amount of labels: {}, videos: {}\".format(ser_dat.shape, ser_lab.shape, ser_vid.shape))\n",
    "\n",
    "test_features = np.concatenate((ade_dat, hyp_dat), axis=0)\n",
    "test_labels = np.concatenate((ade_lab, hyp_lab), axis=0)\n",
    "test_videos = np.concatenate((ade_vid, hyp_vid), axis=0)\n",
    "\n",
    "test_df = pd.DataFrame({'features': list(test_features), 'label': test_labels, 'video': test_videos},\n",
    "                       columns=['features', 'label', 'video'])\n",
    "\n",
    "ser_df = pd.DataFrame({'features': list(ser_dat), 'label': ser_lab, 'video': ser_vid},\n",
    "                       columns=['features', 'label', 'video'])"
   ]
  },
  {
   "cell_type": "code",
   "execution_count": null,
   "id": "f7203695",
   "metadata": {},
   "outputs": [],
   "source": [
    "test_features = get_features(test_df)\n",
    "print(\"test features shape: {}, min and max values: {} {}\".format(test_features.shape, test_features.min(),\n",
    "                                                                   test_features.max()))\n",
    "\n",
    "ser_features = get_features(ser_df)\n",
    "print(\"serrated features shape: {}, min and max values: {} {}\".format(ser_features.shape, ser_features.min(),\n",
    "                                                                      ser_features.max()))"
   ]
  },
  {
   "cell_type": "markdown",
   "id": "5ddfec7e",
   "metadata": {},
   "source": [
    "### Testing"
   ]
  },
  {
   "cell_type": "code",
   "execution_count": null,
   "id": "c8fb759b",
   "metadata": {},
   "outputs": [],
   "source": [
    "print(\"test shape: \",test_features.shape)\n",
    "print(\"ser shape: \",ser_features.shape)"
   ]
  },
  {
   "cell_type": "code",
   "execution_count": null,
   "id": "40913635",
   "metadata": {},
   "outputs": [],
   "source": [
    "x_test, y_test = test_features, test_df['label'].values\n",
    "x_test2, y_test2 = ser_features, ser_df['label'].values"
   ]
  },
  {
   "cell_type": "code",
   "execution_count": null,
   "id": "52e6e1e0",
   "metadata": {},
   "outputs": [],
   "source": [
    "print(\"test labels info\")\n",
    "(unique, counts) = np.unique(y_test, return_counts=True)\n",
    "print({x:y for x,y in zip(unique, counts)})\n",
    "print(\"======================\")\n",
    "print(\"serrated labels info\")\n",
    "(unique, counts) = np.unique(y_test2, return_counts=True)\n",
    "print({x:y for x,y in zip(unique, counts)})"
   ]
  },
  {
   "cell_type": "markdown",
   "id": "79f16e95",
   "metadata": {},
   "source": [
    "### Predicting over adenoma and hyperplatic samples"
   ]
  },
  {
   "cell_type": "code",
   "execution_count": null,
   "id": "83cb3673",
   "metadata": {},
   "outputs": [],
   "source": [
    "print(\"model prediction over test samples:\")\n",
    "y_pred = model.predict(x_test)\n",
    "\n",
    "#print(\"total of preds: \", len(y_pred))\n",
    "#(unique, counts) = np.unique(y_pred, return_counts=True)\n",
    "#{x:y for x,y in zip(unique, counts)}\n",
    "\n",
    "ade_pred_probs, hyp_pred_probs = [], []\n",
    "probs = model.predict_proba(x_test)\n",
    "\n",
    "for i in range(len(y_pred)):\n",
    "    indx = y_pred[i]\n",
    "    current_prob = probs[i][indx]\n",
    "    if indx == 0:\n",
    "        ade_pred_probs.append(current_prob)\n",
    "    else:\n",
    "        hyp_pred_probs.append(current_prob) \n",
    "        \n",
    "ade_pred_probs = np.array(ade_pred_probs)\n",
    "hyp_pred_probs = np.array(hyp_pred_probs)\n",
    "        \n",
    "print(\"probs sum: \", len(ade_pred_probs)+len(hyp_pred_probs))"
   ]
  },
  {
   "cell_type": "markdown",
   "id": "3bcf22a8",
   "metadata": {},
   "source": [
    "#### <font color='red'>Saving predictions</font>"
   ]
  },
  {
   "cell_type": "code",
   "execution_count": null,
   "id": "ce7b2634",
   "metadata": {},
   "outputs": [],
   "source": [
    "print(\"real label: \", y_test.shape)\n",
    "print(\"ade predictions: \", ade_pred_probs.shape)\n",
    "print(\"hyp predictions: \", hyp_pred_probs.shape)\n",
    "print(\"pred labels: \", y_pred.shape)"
   ]
  },
  {
   "cell_type": "code",
   "execution_count": null,
   "id": "80068f2a",
   "metadata": {},
   "outputs": [],
   "source": [
    "ade_hyp_preds = np.concatenate((ade_pred_probs, hyp_pred_probs), axis=0)\n",
    "ade_hyp_preds = ade_hyp_preds.reshape(len(ade_hyp_preds), 1)\n",
    "y_pred = y_pred.reshape(len(y_pred), 1)\n",
    "y_test = y_test.reshape(len(y_test), 1)\n",
    "\n",
    "final_ade_hyp_preds = np.concatenate((y_test, ade_hyp_preds, y_pred), axis=1)\n",
    "print(final_ade_hyp_preds.shape)"
   ]
  },
  {
   "cell_type": "code",
   "execution_count": null,
   "id": "62fe116a",
   "metadata": {},
   "outputs": [],
   "source": [
    "final_ade_hyp_preds"
   ]
  },
  {
   "cell_type": "code",
   "execution_count": null,
   "id": "dcdc26cf",
   "metadata": {},
   "outputs": [],
   "source": [
    "from numpy import savetxt\n",
    "\n",
    "to_save = '../../embeddings/adeVsHyp/lossweighted2/predictions/ade_hyp_preds.csv'\n",
    "savetxt(to_save, final_ade_hyp_preds, delimiter=',', fmt= '%s,%.3f,%i',header='real_label,probs,pred_label')\n",
    "print(\"todo ok\")"
   ]
  },
  {
   "cell_type": "markdown",
   "id": "7e358d75",
   "metadata": {},
   "source": [
    "### Predicting over serrated samples"
   ]
  },
  {
   "cell_type": "code",
   "execution_count": null,
   "id": "9e4a740d",
   "metadata": {},
   "outputs": [],
   "source": [
    "print(\"model prediction over serrated samples:\")\n",
    "y_pred2 = model.predict(x_test2)\n",
    "\n",
    "print(\"total of preds: \", len(y_pred2))\n",
    "(unique, counts) = np.unique(y_pred2, return_counts=True)\n",
    "{x:y for x,y in zip(unique, counts)}\n",
    "\n",
    "probs2 = model.predict_proba(x_test2)\n",
    "ser_pred_probs = np.max(probs2, axis=1)\n",
    "print(\"total serrated preds:\", len(ser_pred_probs))"
   ]
  },
  {
   "cell_type": "code",
   "execution_count": null,
   "metadata": {},
   "outputs": [],
   "source": [
    "print(unique)\n",
    "print(counts)"
   ]
  },
  {
   "cell_type": "markdown",
   "id": "451994ce",
   "metadata": {},
   "source": [
    "#### <font color='red'>Saving predictions</font>"
   ]
  },
  {
   "cell_type": "code",
   "execution_count": null,
   "id": "ba6cb341",
   "metadata": {},
   "outputs": [],
   "source": [
    "print(\"real label: \", y_test2.shape)\n",
    "print(\"ade predictions: \", ser_pred_probs.shape)\n",
    "print(\"pred labels: \", y_pred2.shape)"
   ]
  },
  {
   "cell_type": "code",
   "execution_count": null,
   "id": "982ce55e",
   "metadata": {},
   "outputs": [],
   "source": [
    "y_test2 = y_test2.reshape(len(y_test2), 1)\n",
    "serrated_preds2 = ser_pred_probs.reshape(len(ser_pred_probs), 1)\n",
    "y_pred2 = y_pred2.reshape(len(y_pred2), 1)\n",
    "\n",
    "serrated_preds = np.concatenate((y_test2, serrated_preds2, y_pred2), axis=1)\n",
    "print(serrated_preds.shape)"
   ]
  },
  {
   "cell_type": "code",
   "execution_count": null,
   "id": "ddf01f4e",
   "metadata": {},
   "outputs": [],
   "source": [
    "from numpy import savetxt\n",
    "\n",
    "to_save = '../data/embeddings/adeVsHyp/lossweighted2/predictions/ser_preds.csv'\n",
    "savetxt(to_save, serrated_preds, delimiter=',', fmt= '%s,%.3f,%i',header='real_label,probs,pred_label')\n",
    "print(\"todo ok\")"
   ]
  },
  {
   "cell_type": "markdown",
   "id": "c7a288c3",
   "metadata": {},
   "source": [
    "## Metrics"
   ]
  },
  {
   "cell_type": "code",
   "execution_count": null,
   "id": "95190fa6",
   "metadata": {},
   "outputs": [],
   "source": [
    "print(len(y_test))\n",
    "print(len(y_pred))"
   ]
  },
  {
   "cell_type": "code",
   "execution_count": null,
   "id": "0fe053e0",
   "metadata": {},
   "outputs": [],
   "source": [
    "pred2string = {0:\"adenoma\",\n",
    "               1:\"hiperplastic\"}\n",
    "y_pred_lab = []\n",
    "for i in range(len(y_pred)):\n",
    "    y_pred_lab.append(pred2string[y_pred[i][0]])"
   ]
  },
  {
   "cell_type": "code",
   "execution_count": null,
   "id": "a3dcd869",
   "metadata": {},
   "outputs": [],
   "source": [
    "target_names = ['adenoma', 'hyperplastic']\n",
    "print(classification_report(y_test, y_pred_lab, target_names=target_names))"
   ]
  },
  {
   "cell_type": "code",
   "execution_count": null,
   "id": "93f84a5d",
   "metadata": {},
   "outputs": [],
   "source": [
    "#=========== only for AdeVsHyp ===========\n",
    "target_names = ['adenoma', 'hiperplastic']\n",
    "cm = confusion_matrix(y_true=y_test, y_pred=y_pred_lab, normalize='true')\n",
    "disp = ConfusionMatrixDisplay(confusion_matrix=cm, display_labels=target_names)\n",
    "disp = disp.plot(include_values=True, cmap=plt.cm.Blues, xticks_rotation='horizontal', values_format='.2f')\n",
    "\n",
    "plt.grid(False)\n",
    "plt.show()"
   ]
  },
  {
   "cell_type": "code",
   "execution_count": null,
   "metadata": {},
   "outputs": [],
   "source": [
    "cm = confusion_matrix(y_true=y_test, y_pred=y_pred_lab, normalize=None)\n",
    "cm"
   ]
  },
  {
   "cell_type": "code",
   "execution_count": null,
   "id": "fa3c547b",
   "metadata": {},
   "outputs": [],
   "source": [
    "#for auc\n",
    "fpr = {}\n",
    "tpr = {}\n",
    "thresh ={}\n",
    "n_class = 2\n",
    "le = preprocessing.LabelEncoder()\n",
    "y_test_enc = le.fit_transform(y_test)\n",
    "for j in range(n_class):\n",
    "    fpr[j], tpr[j], thresh[j] = roc_curve(y_test_enc, probs[:,j], pos_label=j)\n",
    "ade_auc, hyp_auc = auc(fpr[0], tpr[0]), auc(fpr[1], tpr[1])\n",
    "gen_auc = roc_auc_score(y_test_enc, np.argmax(probs, axis=1)) \n",
    "print(\"gen_auc: \", gen_auc)"
   ]
  },
  {
   "cell_type": "markdown",
   "id": "f2b682e5",
   "metadata": {},
   "source": [
    "# <font color='red'>**Probabilities**</font>"
   ]
  },
  {
   "cell_type": "code",
   "execution_count": null,
   "id": "1d529d8a",
   "metadata": {},
   "outputs": [],
   "source": [
    "probs = np.concatenate((ade_pred_probs, hyp_pred_probs, ser_pred_probs), axis=0)\n",
    "probs.shape"
   ]
  },
  {
   "cell_type": "code",
   "execution_count": null,
   "id": "83a82d42",
   "metadata": {},
   "outputs": [],
   "source": [
    "pred_label = np.concatenate((y_pred.reshape(len(y_pred)), y_pred2.reshape(len(y_pred2))), axis=0)\n",
    "pred_label.shape"
   ]
  },
  {
   "cell_type": "code",
   "execution_count": null,
   "id": "6928b22c",
   "metadata": {},
   "outputs": [],
   "source": [
    "test_final = pd.concat([test_df, ser_df], axis=0)\n",
    "test_final['probs'] = probs\n",
    "test_final['pred_label'] = pred_label\n",
    "test_final.tail()"
   ]
  },
  {
   "cell_type": "code",
   "execution_count": null,
   "id": "2618f16a",
   "metadata": {},
   "outputs": [],
   "source": [
    "test_final.groupby(['label']).count()"
   ]
  },
  {
   "cell_type": "code",
   "execution_count": null,
   "id": "b5275308",
   "metadata": {},
   "outputs": [],
   "source": [
    "test_final['pred_label'] = test_final['pred_label'].replace([0,1], ['adenoma', 'hiperplastic'])\n",
    "test_final.tail()"
   ]
  },
  {
   "cell_type": "code",
   "execution_count": null,
   "id": "b3cf1a94",
   "metadata": {},
   "outputs": [],
   "source": [
    "predictions = []\n",
    "for i in range(len(test_final)):\n",
    "    pred = test_final.iloc[i]['pred_label']\n",
    "    prob = test_final.iloc[i]['probs']\n",
    "    if pred == 'adenoma':\n",
    "        predictions.append(prob)\n",
    "    else:\n",
    "        prob = 1 - prob\n",
    "        prob = float(format(prob, '.2f'))\n",
    "        predictions.append(prob)"
   ]
  },
  {
   "cell_type": "code",
   "execution_count": null,
   "id": "02ca2071",
   "metadata": {},
   "outputs": [],
   "source": [
    "test_final['ade_prob'] = predictions\n",
    "test_final.groupby('label').count()"
   ]
  },
  {
   "cell_type": "code",
   "execution_count": null,
   "id": "b2e9626d",
   "metadata": {},
   "outputs": [],
   "source": [
    "means = test_final.groupby(['label'])['ade_prob'].mean()\n",
    "print(round(means,3))"
   ]
  },
  {
   "cell_type": "code",
   "execution_count": null,
   "id": "72153cb1",
   "metadata": {},
   "outputs": [],
   "source": [
    "print(model)"
   ]
  },
  {
   "cell_type": "code",
   "execution_count": null,
   "id": "a2e9e3e9",
   "metadata": {},
   "outputs": [],
   "source": [
    "ade_df = test_final[test_final['label']=='adenoma']\n",
    "ser_df = test_final[test_final['label']=='serrated']\n",
    "hyp_df = test_final[test_final['label']=='hiperplastic']"
   ]
  },
  {
   "cell_type": "code",
   "execution_count": null,
   "id": "740a80cc",
   "metadata": {},
   "outputs": [],
   "source": [
    "ade_mean = ade_df['ade_prob'].mean()\n",
    "print(\"adenoma mean: \", round(ade_mean, 3))\n",
    "hyp_mean = hyp_df['ade_prob'].mean()\n",
    "print(\"hyperplastic mean: \", round(hyp_mean, 3))\n",
    "ser_mean = ser_df['ade_prob'].mean()\n",
    "print(\"serrated mean: \", round(ser_mean, 3))"
   ]
  },
  {
   "cell_type": "markdown",
   "id": "48efb503",
   "metadata": {},
   "source": [
    "## <font color='red'>**knowing all the polyps probabilities to being as adenoma**</font>"
   ]
  },
  {
   "cell_type": "code",
   "execution_count": null,
   "metadata": {},
   "outputs": [],
   "source": [
    "means = test_final.groupby(['label'])['ade_prob'].mean()\n",
    "print(round(means,3))"
   ]
  },
  {
   "cell_type": "markdown",
   "metadata": {},
   "source": [
    "# <font color='red'>For image violin analysis</font>"
   ]
  },
  {
   "cell_type": "code",
   "execution_count": null,
   "metadata": {},
   "outputs": [],
   "source": [
    "general_path"
   ]
  },
  {
   "cell_type": "code",
   "execution_count": null,
   "metadata": {},
   "outputs": [],
   "source": [
    "#experiment = 'embcBaseline'\n",
    "general_path = '../imgs_results/binary/embcVariation/test/fineTunedModel/onlinePreds.csv'\n",
    "test_final = pd.read_csv(general_path, header=None)\n",
    "test_final.columns = ['info', 'num_frame', 'ade_prob', 'hyp_prob']\n",
    "\n",
    "label = []\n",
    "predicted = []\n",
    "\n",
    "for i in range(len(test_final)):\n",
    "    info = test_final.iloc[i]['info']\n",
    "    etiqueta = info.split('_')[0]\n",
    "    label.append(etiqueta)\n",
    "    ade_prob = test_final.iloc[i]['ade_prob']\n",
    "    \n",
    "    if ade_prob > 0.5:\n",
    "        pred = 'adenoma'\n",
    "    else:\n",
    "        pred = 'hyperplastic'\n",
    "        \n",
    "    predicted.append(pred)\n",
    "    \n",
    "test_final['label'] = label\n",
    "test_final['predicted'] = predicted"
   ]
  },
  {
   "cell_type": "code",
   "execution_count": null,
   "metadata": {},
   "outputs": [],
   "source": [
    "test_final.tail()"
   ]
  },
  {
   "cell_type": "code",
   "execution_count": null,
   "metadata": {},
   "outputs": [],
   "source": [
    "test_final.groupby('label').count()"
   ]
  },
  {
   "cell_type": "code",
   "execution_count": null,
   "metadata": {},
   "outputs": [],
   "source": [
    "ade_df = test_final[test_final['label']=='adenoma']\n",
    "hyp_df = test_final[test_final['label']=='hiperplastic']\n",
    "ser_df = test_final[test_final['label']=='serrated']"
   ]
  },
  {
   "cell_type": "code",
   "execution_count": null,
   "metadata": {},
   "outputs": [],
   "source": [
    "ade_mean = ade_df['ade_prob'].mean()\n",
    "print(\"ade mean: \", round(ade_mean,3))\n",
    "\n",
    "hyp_mean = hyp_df['ade_prob'].mean()\n",
    "print(\"hyp as ade mean: \", round(hyp_mean,3))\n",
    "\n",
    "ser_mean = ser_df['ade_prob'].mean()\n",
    "print(\"ser as ade mean: \", round(ser_mean,3))"
   ]
  },
  {
   "cell_type": "code",
   "execution_count": null,
   "metadata": {},
   "outputs": [],
   "source": [
    "means = test_final.groupby(['label'])['ade_prob'].mean()\n",
    "print(round(means,3))"
   ]
  },
  {
   "cell_type": "code",
   "execution_count": null,
   "metadata": {},
   "outputs": [],
   "source": [
    "ser_df[ser_df['predicted']=='hyperplastic'].count()"
   ]
  },
  {
   "cell_type": "markdown",
   "id": "51598192",
   "metadata": {},
   "source": [
    "## Violin plot"
   ]
  },
  {
   "cell_type": "code",
   "execution_count": null,
   "id": "67fd8661",
   "metadata": {},
   "outputs": [],
   "source": [
    "import matplotlib.transforms as transforms"
   ]
  },
  {
   "cell_type": "code",
   "execution_count": null,
   "metadata": {},
   "outputs": [],
   "source": [
    "fig, ax = plt.subplots(figsize=(10, 7))\n",
    "\n",
    "#plt.title(string, fontsize=14)\n",
    "my_pal = [(234/255, 104/255, 106/255), (33/255, 222/255, 132/255), (70/255, 163/255, 229/255)]\n",
    "\n",
    "sns.set(style=\"whitegrid\")\n",
    "sns.violinplot(data=test_final, x='label', y='ade_prob', palette=my_pal, inner=\"quartile\")\n",
    "sns.boxenplot(x=test_final[\"label\"], y=test_final[\"ade_prob\"], color=\"gray\", width=0.05)\n",
    "plt.scatter(x=range(len(means)), y=means, c='w')\n",
    "plt.title(\"Embedding odds from model with polyp classifier betas\")\n",
    "plt.ylabel(\"Adenoma probability\", fontsize=14)\n",
    "plt.xlabel(\"Polyp class\", fontsize=14)\n",
    "#plt.savefig('violinImg_betas.png')\n",
    "plt.show()"
   ]
  },
  {
   "cell_type": "markdown",
   "id": "a75a212f",
   "metadata": {},
   "source": [
    "## P value"
   ]
  },
  {
   "cell_type": "code",
   "execution_count": null,
   "id": "fdcd6add",
   "metadata": {},
   "outputs": [],
   "source": [
    "from scipy.stats import mannwhitneyu\n",
    "from scipy import stats"
   ]
  },
  {
   "cell_type": "code",
   "execution_count": null,
   "id": "105572e0",
   "metadata": {},
   "outputs": [],
   "source": [
    "#teniendo en cuenta todas las predicciones pero con valores relativos a adenoma \n",
    "ade = test_final[test_final['label']=='adenoma']\n",
    "ade_prob = ade['ade_prob'].values\n",
    "hyp = test_final[test_final['label']=='hiperplastic']\n",
    "hyp_prob = hyp['ade_prob'].values\n",
    "ser = test_final[test_final['label']=='serrated']\n",
    "ser_prob = ser['ade_prob'].values"
   ]
  },
  {
   "cell_type": "code",
   "execution_count": null,
   "id": "5adc4af2",
   "metadata": {},
   "outputs": [],
   "source": [
    "# Stacked histogram with multiple airlines\n",
    "names = ['ade', 'hyp', 'ser']\n",
    "plt.hist([ade_prob, hyp_prob, ser_prob], bins = int(180/15), stacked=True);"
   ]
  },
  {
   "cell_type": "code",
   "execution_count": null,
   "id": "465c9028",
   "metadata": {},
   "outputs": [],
   "source": [
    "# List of five airlines to plot\n",
    "polyp_labels = ['adenoma', 'hiperplastic', 'serrated']\n",
    "\n",
    "# Iterate through the five airlines\n",
    "for polyp_type in polyp_labels:\n",
    "    # Subset to the airline\n",
    "    subset = test_final[test_final['label'] == polyp_type]\n",
    "    \n",
    "    # Draw the density plot\n",
    "    sns.distplot(subset['ade_prob'], hist = False, kde = True,\n",
    "                 kde_kws = {'linewidth': 3},\n",
    "                 label = polyp_type)\n",
    "    \n",
    "# Plot formatting\n",
    "plt.legend(prop={'size': 16}, title = 'Polyp labels')\n",
    "plt.title('Density plot with polyp types')\n",
    "plt.xlabel('Probability(%)')\n",
    "plt.ylabel('Density');\n",
    "plt.show()"
   ]
  },
  {
   "cell_type": "markdown",
   "id": "a122d469",
   "metadata": {},
   "source": [
    "### Can the data be used for a parametric test?\n",
    "According to the above results...no\n",
    "\n",
    "For remminder:\n",
    "Differences between parametric vs non-parametric tests:\n",
    "1. **Parametric test:** The data population follows a normal distribution (z-test, t-test, ANOVA)\n",
    "2. **Non-parametric test:** non asumption about the data distribution (chi-square, Mann-Whitney U test)"
   ]
  },
  {
   "cell_type": "markdown",
   "id": "04048125",
   "metadata": {},
   "source": [
    "**Mann-Whitney U test**\n",
    "Useful for:\n",
    "1. Compare two mean samples from the same population \n",
    "2. To say if two mean samples are the same or not---> affirm if two populations are different or say if there are differences between the group's means.\n",
    "Data features for Mann-Whitney U test application:\n",
    "1. The depend variable (adenoma probability) must be measured continiuosly (from 0 to 1 probs)\n",
    "2. The independ variable must be two groups (adenoma vs hyperplastic for example)\n",
    "3. Observational independence for each group\n",
    "4. Both depend and independ variables are distributed anormaly (no regular distribution)\n",
    "\n",
    "    if p<=alpha then H0 is rejected otherwise H0 is accepted. **Here H0:** the distribution for a sample X is the same for a sample Y\n",
    "    \n",
    "**Note:** **We are comparing median** as two polyp types have similar shape of distribution (see histogram and density function). If two groups do not have similar shape of distribution, you should compare mean ranks."
   ]
  },
  {
   "cell_type": "code",
   "execution_count": null,
   "id": "63e395f2",
   "metadata": {},
   "outputs": [],
   "source": [
    "print(\"amount of probabilities by label:\\n\")\n",
    "print(\"adenoma: {}, hyper: {} and serrated: {}\".format(ade_prob.shape, hyp_prob.shape, ser_prob.shape))"
   ]
  },
  {
   "cell_type": "code",
   "execution_count": null,
   "id": "c7750810",
   "metadata": {},
   "outputs": [],
   "source": [
    "print(\"some statistics over populations:\\n\")\n",
    "print(\"adenoma:\")\n",
    "print(\"mean: {}, std: {}\".format(round(ade_prob.mean(),3), round(ade_prob.std(),3)))\n",
    "print(\"hyperplastic:\")\n",
    "print(\"mean: {}, std: {}\".format(round(hyp_prob.mean(),3), round(hyp_prob.std(),3)))\n",
    "print(\"serrated:\")\n",
    "print(\"mean: {}, std: {}\".format(round(ser_prob.mean(),3), round(ser_prob.std(),3)))"
   ]
  },
  {
   "cell_type": "code",
   "execution_count": null,
   "id": "e15a7d9a",
   "metadata": {},
   "outputs": [],
   "source": [
    "#example for upsampling data\n",
    "def manWhitneyTest(population_1, population_2):\n",
    "    from sklearn.utils import resample\n",
    "    \n",
    "    if len(population_1)>len(population_2):\n",
    "        max_sample = population_1\n",
    "        min_sample = population_2\n",
    "    else:\n",
    "        max_sample = population_2\n",
    "        min_sample = population_1\n",
    "        \n",
    "    upsample = resample(min_sample, replace=True, n_samples=len(max_sample), random_state=42)\n",
    "   \n",
    "    max_sample = sorted(max_sample, key=float)\n",
    "    upsample = sorted(upsample, key=float)\n",
    "    \n",
    "    statistic, p_value = mannwhitneyu(x=max_sample, y=upsample, alternative='two-sided')\n",
    "    print(\"statistic: \", statistic)\n",
    "    print(\"p_value: \", p_value)\n",
    "    \n",
    "    if p_value < 0.05:\n",
    "        print(\"the distributions are DIFFERENT\")\n",
    "    else:\n",
    "        print(\"the distributions are THE SAME\")\n",
    "    return np.array(max_sample), np.array(upsample) "
   ]
  },
  {
   "cell_type": "code",
   "execution_count": null,
   "id": "4385b75e",
   "metadata": {},
   "outputs": [],
   "source": [
    "print(\"====== P value test for ade Vs hyp: ======\")\n",
    "print(\"data sorted:\")\n",
    "max_sample, min_sample = manWhitneyTest(ade_prob, hyp_prob)\n",
    "print(\"max_sample----> mean:{}, std{}, min_sample----> mean:{}, std{}\".\n",
    "      format(round(max_sample.mean(),3), round(max_sample.std(),3), round(min_sample.mean(),3), round(min_sample.std(),3)))\n",
    "\n",
    "print(\"====== P value test for ade Vs ser: ======\")\n",
    "print(\"data sorted:\")\n",
    "max_sample, min_sample = manWhitneyTest(ade_prob, ser_prob)\n",
    "print(\"max_sample----> mean:{}, std{}, min_sample----> mean:{}, std{}\".\n",
    "      format(round(max_sample.mean(),3), round(max_sample.std(),3), round(min_sample.mean(),3), round(min_sample.std(),3)))\n",
    "\n",
    "print(\"====== P value test for hyp Vs ser: ======\")\n",
    "print(\"data sorted:\")\n",
    "max_sample, min_sample = manWhitneyTest(hyp_prob, ser_prob)\n",
    "print(\"max_sample----> mean:{}, std{}, min_sample----> mean:{}, std{}\".\n",
    "      format(round(max_sample.mean(),3), round(max_sample.std(),3), round(min_sample.mean(),3), round(min_sample.std(),3)))"
   ]
  },
  {
   "cell_type": "markdown",
   "id": "01155eaf",
   "metadata": {},
   "source": [
    "For future reading manwhitney : \n",
    "* https://www.statstutor.ac.uk/resources/uploaded/mannwhitney.pdf\n",
    "* https://sphweb.bumc.bu.edu/otlt/mph-modules/bs/bs704_nonparametric/bs704_nonparametric4.html\n",
    "Alternativa a manWhitney: Kruskal-Wallis One-Way analysis of variance and chi test\n"
   ]
  },
  {
   "cell_type": "markdown",
   "id": "81ff178d",
   "metadata": {},
   "source": [
    "**Chi square**"
   ]
  },
  {
   "cell_type": "code",
   "execution_count": null,
   "id": "4a6a7b00",
   "metadata": {},
   "outputs": [],
   "source": [
    " from sklearn.utils import resample"
   ]
  },
  {
   "cell_type": "code",
   "execution_count": null,
   "id": "8f9b25a7",
   "metadata": {},
   "outputs": [],
   "source": [
    "def resampling_data(population_1, population_2):\n",
    "    if len(population_1) > len(population_2):\n",
    "        max_sample = population_1\n",
    "        min_sample = population_2\n",
    "    else:\n",
    "        max_sample = population_2\n",
    "        min_sample = population_1\n",
    "    \n",
    "    upsample = resample(min_sample, replace=True, n_samples=len(max_sample), random_state=42)\n",
    "    max_sample = np.array(sorted(max_sample, key=float))\n",
    "    upsample = np.array(sorted(upsample, key=float))\n",
    "    \n",
    "    return max_sample, upsample"
   ]
  },
  {
   "cell_type": "code",
   "execution_count": null,
   "id": "9b16b72f",
   "metadata": {},
   "outputs": [],
   "source": [
    "def _chiSquare_test_(data_experimental, data_theorical, alpha=0.05):\n",
    "    \"\"\"Function that execute the chi Square Test. In this case the theorical data is required to test the null hypothesis of 'experimental data follow the theorical data frequencies or distribution' and finally returns a boolean for the null hypothesis with the statistical value of the test. This methods is based in scipy chisquare method but its applied by hand.\n",
    "    Args:\n",
    "        data_experimental (Array): An 1D array of data containing the values to be tested.\n",
    "        data_teorical (Array): An 1D array of data containing the expected values to be compared.\n",
    "        alpha (Float): A decimal value meaning the significance level, default is 0.05 for 5%.\n",
    "    \"\"\"\n",
    "    terms = (data_experimental - data_theorical)**2 / (data_theorical + 1e-3)\n",
    "    statistic = np.sum(terms)\n",
    "    p_value = stats.chi2.sf(statistic, data_theorical.shape[0] - 1)\n",
    "    print(\"statistic: \", statistic)\n",
    "    print(\"p_value: \", p_value)\n",
    "    if p_value < alpha:\n",
    "        return False, p_value, statistic\n",
    "    else: \n",
    "        return True, p_value, statistic"
   ]
  },
  {
   "cell_type": "code",
   "execution_count": null,
   "id": "3dcef55e",
   "metadata": {},
   "outputs": [],
   "source": [
    "print(\"for adenoma Vs hyperplastic:\")\n",
    "max_sample, upsample = resampling_data(ade_prob, hyp_prob)\n",
    "print(_chiSquare_test_(max_sample, upsample))\n",
    "print(\"for adenoma Vs serrated:\")\n",
    "max_sample, upsample = resampling_data(ade_prob, ser_prob)\n",
    "print(_chiSquare_test_(max_sample, upsample))\n",
    "print(\"for hyperplastic Vs serrated:\")\n",
    "max_sample, upsample = resampling_data(hyp_prob, ser_prob)\n",
    "print(_chiSquare_test_(max_sample, upsample))"
   ]
  }
 ],
 "metadata": {
  "kernelspec": {
   "display_name": "Python 3",
   "language": "python",
   "name": "python3"
  },
  "language_info": {
   "codemirror_mode": {
    "name": "ipython",
    "version": 3
   },
   "file_extension": ".py",
   "mimetype": "text/x-python",
   "name": "python",
   "nbconvert_exporter": "python",
   "pygments_lexer": "ipython3",
   "version": "3.8.10"
  }
 },
 "nbformat": 4,
 "nbformat_minor": 5
}
